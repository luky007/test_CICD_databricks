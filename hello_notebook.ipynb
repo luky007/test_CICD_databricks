{
 "cells": [
  {
   "cell_type": "code",
   "execution_count": null,
   "metadata": {},
   "outputs": [],
   "source": [
    "print(\"hello\")"
   ]
  },
  {
   "cell_type": "code",
   "execution_count": null,
   "metadata": {},
   "outputs": [],
   "source": [
    "dbutils.widgets.text(\"name\", \"default_name\", \"Enter your name:\")"
   ]
  },
  {
   "cell_type": "code",
   "execution_count": null,
   "metadata": {},
   "outputs": [],
   "source": [
    "# Import necessary libraries\n",
    "from pyspark.sql import SparkSession\n",
    "from pyspark.sql.functions import avg, col\n",
    "\n",
    "# Create a Spark session\n",
    "spark = SparkSession.builder.appName(\"Dummy PySpark Code\").getOrCreate()\n",
    "\n",
    "# Create a sample DataFrame\n",
    "data = [(\"Alice\", 34), (\"Bob\", 45), (\"Cathy\", 29), (\"David\", 40), (\"Eva\", 35)]\n",
    "\n",
    "columns = [\"Name\", \"Age\"]\n",
    "\n",
    "df = spark.createDataFrame(data, columns)\n",
    "\n",
    "# Show the original DataFrame\n",
    "print(\"Original DataFrame:\")\n",
    "df.show()\n",
    "\n",
    "# Perform a transformation: filter out people older than 30\n",
    "filtered_df = df.filter(col(\"Age\") > 30)\n",
    "\n",
    "# Show the filtered DataFrame\n",
    "print(\"Filtered DataFrame (Age > 30):\")\n",
    "filtered_df.show()\n",
    "\n",
    "# Calculate the average age\n",
    "average_age = df.agg(avg(\"Age\").alias(\"Average_Age\")).collect()[0][\"Average_Age\"]\n",
    "\n",
    "# Print the average age\n",
    "print(f\"The average age is: {average_age}\")\n",
    "\n",
    "# Stop the Spark session\n",
    "spark.stop()\n"
   ]
  }
 ],
 "metadata": {
  "language_info": {
   "name": "python"
  }
 },
 "nbformat": 4,
 "nbformat_minor": 2
}
